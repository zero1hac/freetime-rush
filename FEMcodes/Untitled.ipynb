{
 "cells": [
  {
   "cell_type": "code",
   "execution_count": 28,
   "metadata": {},
   "outputs": [],
   "source": [
    "from sympy import Function, Symbol, fraction\n",
    "from sympy import init_printing\n",
    "from sympy import integrate\n",
    "from sympy import Matrix, solve_linear_system, symbols, solve\n",
    "from sympy.solvers.solveset import linsolve\n",
    "init_printing()"
   ]
  },
  {
   "cell_type": "code",
   "execution_count": 16,
   "metadata": {},
   "outputs": [],
   "source": [
    "x = Symbol('x')\n",
    "f = Function('f')\n",
    "c3 = Symbol('c3')\n",
    "c4 = Symbol('c4')"
   ]
  },
  {
   "cell_type": "code",
   "execution_count": 17,
   "metadata": {},
   "outputs": [],
   "source": [
    "class my_func(Function):\n",
    "    \n",
    "    @classmethod\n",
    "    def eval(cls, x, c3, c4):\n",
    "        return x + c3*(x*x - x) + c4*(x*x*x - x)\n",
    "    \n",
    "    def _eval_is_real(self):\n",
    "        return self.args[0].is_real()\n"
   ]
  },
  {
   "cell_type": "code",
   "execution_count": 18,
   "metadata": {},
   "outputs": [
    {
     "data": {
      "text/latex": [
       "$$c_{3} \\left(x^{2} - x\\right) + c_{4} \\left(x^{3} - x\\right) + x$$"
      ],
      "text/plain": [
       "   ⎛ 2    ⎞      ⎛ 3    ⎞    \n",
       "c₃⋅⎝x  - x⎠ + c₄⋅⎝x  - x⎠ + x"
      ]
     },
     "execution_count": 18,
     "metadata": {},
     "output_type": "execute_result"
    }
   ],
   "source": [
    "my_func(x, c3, c4)"
   ]
  },
  {
   "cell_type": "code",
   "execution_count": 19,
   "metadata": {},
   "outputs": [],
   "source": [
    "#Weighting\n",
    "w1 = x*x - x\n",
    "w2 = x*x*x - x"
   ]
  },
  {
   "cell_type": "code",
   "execution_count": 20,
   "metadata": {},
   "outputs": [],
   "source": [
    "class my_var(Function):\n",
    "    \n",
    "    @classmethod\n",
    "    def eval(cls, phi, x):\n",
    "        return phi.diff(x).diff(x) - x - 1\n",
    "    def _eval_is_real(self):\n",
    "        return self.args[0].is_real()"
   ]
  },
  {
   "cell_type": "code",
   "execution_count": 21,
   "metadata": {},
   "outputs": [
    {
     "data": {
      "text/latex": [
       "$$- \\frac{c_{3}}{3} - \\frac{c_{4}}{2} + \\frac{1}{4}$$"
      ],
      "text/plain": [
       "  c₃   c₄   1\n",
       "- ── - ── + ─\n",
       "  3    2    4"
      ]
     },
     "execution_count": 21,
     "metadata": {},
     "output_type": "execute_result"
    }
   ],
   "source": [
    "#Applying for first BC:\n",
    "integrate(my_var(my_func(x, c3,c4), x)*w1, (x, 0, 1))"
   ]
  },
  {
   "cell_type": "code",
   "execution_count": 22,
   "metadata": {},
   "outputs": [
    {
     "data": {
      "text/latex": [
       "$$- \\frac{c_{3}}{2} - \\frac{4 c_{4}}{5} + \\frac{23}{60}$$"
      ],
      "text/plain": [
       "  c₃   4⋅c₄   23\n",
       "- ── - ──── + ──\n",
       "  2     5     60"
      ]
     },
     "execution_count": 22,
     "metadata": {},
     "output_type": "execute_result"
    }
   ],
   "source": [
    "#Applying for Second BC:\n",
    "integrate(my_var(my_func(x, c3, c4), x)*w2, (x, 0, 1))"
   ]
  },
  {
   "cell_type": "code",
   "execution_count": 23,
   "metadata": {},
   "outputs": [],
   "source": [
    "\n",
    "a1 = Symbol('a1')\n",
    "a1 = fraction(\"-1/3\")\n",
    "a2 = Symbol('a2')\n",
    "a2 = fraction(\"-1/2\")\n",
    "b1 = Symbol('b1')\n",
    "b1 = fraction(\"-1/2\")\n",
    "b2 = Symbol('b2')\n",
    "b2 = fraction(\"-4/5\")\n",
    "c1 = Symbol('c1')\n",
    "c1 = fraction(\"-1/4\")\n",
    "c2 = Symbol('c2')\n",
    "c2 = fraction(\"-23/60\")"
   ]
  },
  {
   "cell_type": "code",
   "execution_count": 24,
   "metadata": {},
   "outputs": [],
   "source": [
    "M = Matrix(((a1, b1, c1), (a2, b2, c2)))\n",
    "system = A, b = M[:,:-1], M[:,-1]"
   ]
  },
  {
   "cell_type": "code",
   "execution_count": 32,
   "metadata": {},
   "outputs": [],
   "source": [
    "k,l,m = symbols('k,l,m')\n",
    "eq1 = k*(-1.0/3.0) + l*(-1.0/2.0) \n",
    "eq2 = k*(-1.0/2.0) + l*(-4.0/5.0)"
   ]
  },
  {
   "cell_type": "code",
   "execution_count": 33,
   "metadata": {},
   "outputs": [
    {
     "data": {
      "text/latex": [
       "$$\\left \\{ k : 0.5, \\quad l : 0.166666666666667\\right \\}$$"
      ],
      "text/plain": [
       "{k: 0.5, l: 0.166666666666667}"
      ]
     },
     "execution_count": 33,
     "metadata": {},
     "output_type": "execute_result"
    }
   ],
   "source": [
    "solve([eq1+(1.0/4.0), eq2+(23.0/60.0)], (k,l))"
   ]
  },
  {
   "cell_type": "code",
   "execution_count": 34,
   "metadata": {},
   "outputs": [
    {
     "data": {
      "text/latex": [
       "$$-0.5$$"
      ],
      "text/plain": [
       "-0.500000000000000"
      ]
     },
     "execution_count": 34,
     "metadata": {},
     "output_type": "execute_result"
    }
   ],
   "source": [
    "eq1.evalf(subs={k:0.5, l:2.0/3.0})"
   ]
  },
  {
   "cell_type": "code",
   "execution_count": null,
   "metadata": {},
   "outputs": [],
   "source": []
  }
 ],
 "metadata": {
  "kernelspec": {
   "display_name": "sympy",
   "language": "python",
   "name": "sympy"
  },
  "language_info": {
   "codemirror_mode": {
    "name": "ipython",
    "version": 2
   },
   "file_extension": ".py",
   "mimetype": "text/x-python",
   "name": "python",
   "nbconvert_exporter": "python",
   "pygments_lexer": "ipython2",
   "version": "2.7.14"
  }
 },
 "nbformat": 4,
 "nbformat_minor": 2
}
